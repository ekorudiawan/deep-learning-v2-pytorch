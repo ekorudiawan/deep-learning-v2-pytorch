{
 "cells": [
  {
   "cell_type": "markdown",
   "metadata": {},
   "source": [
    "# Neural networks with PyTorch\n",
    "\n",
    "Deep learning networks tend to be massive with dozens or hundreds of layers, that's where the term \"deep\" comes from. You can build one of these deep networks using only weight matrices as we did in the previous notebook, but in general it's very cumbersome and difficult to implement. PyTorch has a nice module `nn` that provides a nice way to efficiently build large neural networks."
   ]
  },
  {
   "cell_type": "code",
   "execution_count": 2,
   "metadata": {},
   "outputs": [],
   "source": [
    "# Import necessary packages\n",
    "\n",
    "%matplotlib inline\n",
    "%config InlineBackend.figure_format = 'retina'\n",
    "\n",
    "import numpy as np\n",
    "import torch\n",
    "\n",
    "import helper\n",
    "\n",
    "import matplotlib.pyplot as plt"
   ]
  },
  {
   "cell_type": "markdown",
   "metadata": {},
   "source": [
    "\n",
    "Now we're going to build a larger network that can solve a (formerly) difficult problem, identifying text in an image. Here we'll use the MNIST dataset which consists of greyscale handwritten digits. Each image is 28x28 pixels, you can see a sample below\n",
    "\n",
    "<img src='assets/mnist.png'>\n",
    "\n",
    "Our goal is to build a neural network that can take one of these images and predict the digit in the image.\n",
    "\n",
    "First up, we need to get our dataset. This is provided through the `torchvision` package. The code below will download the MNIST dataset, then create training and test datasets for us. Don't worry too much about the details here, you'll learn more about this later."
   ]
  },
  {
   "cell_type": "code",
   "execution_count": 3,
   "metadata": {},
   "outputs": [
    {
     "name": "stdout",
     "output_type": "stream",
     "text": [
      "Downloading http://yann.lecun.com/exdb/mnist/train-images-idx3-ubyte.gz\n",
      "Downloading http://yann.lecun.com/exdb/mnist/train-labels-idx1-ubyte.gz\n",
      "Downloading http://yann.lecun.com/exdb/mnist/t10k-images-idx3-ubyte.gz\n",
      "Downloading http://yann.lecun.com/exdb/mnist/t10k-labels-idx1-ubyte.gz\n",
      "Processing...\n",
      "Done!\n"
     ]
    }
   ],
   "source": [
    "### Run this cell\n",
    "\n",
    "from torchvision import datasets, transforms\n",
    "\n",
    "# Define a transform to normalize the data\n",
    "transform = transforms.Compose([transforms.ToTensor(),\n",
    "                              transforms.Normalize((0.5,), (0.5,)),\n",
    "                              ])\n",
    "\n",
    "# Download and load the training data\n",
    "trainset = datasets.MNIST('~/.pytorch/MNIST_data/', download=True, train=True, transform=transform)\n",
    "trainloader = torch.utils.data.DataLoader(trainset, batch_size=64, shuffle=True)"
   ]
  },
  {
   "cell_type": "markdown",
   "metadata": {},
   "source": [
    "We have the training data loaded into `trainloader` and we make that an iterator with `iter(trainloader)`. Later, we'll use this to loop through the dataset for training, like\n",
    "\n",
    "```python\n",
    "for image, label in trainloader:\n",
    "    ## do things with images and labels\n",
    "```\n",
    "\n",
    "You'll notice I created the `trainloader` with a batch size of 64, and `shuffle=True`. The batch size is the number of images we get in one iteration from the data loader and pass through our network, often called a *batch*. And `shuffle=True` tells it to shuffle the dataset every time we start going through the data loader again. But here I'm just grabbing the first batch so we can check out the data. We can see below that `images` is just a tensor with size `(64, 1, 28, 28)`. So, 64 images per batch, 1 color channel, and 28x28 images."
   ]
  },
  {
   "cell_type": "code",
   "execution_count": 4,
   "metadata": {},
   "outputs": [
    {
     "name": "stdout",
     "output_type": "stream",
     "text": [
      "<class 'torch.Tensor'>\n",
      "torch.Size([64, 1, 28, 28])\n",
      "torch.Size([64])\n"
     ]
    }
   ],
   "source": [
    "dataiter = iter(trainloader)\n",
    "images, labels = dataiter.next()\n",
    "print(type(images))\n",
    "print(images.shape)\n",
    "print(labels.shape)"
   ]
  },
  {
   "cell_type": "markdown",
   "metadata": {},
   "source": [
    "This is what one of the images looks like. "
   ]
  },
  {
   "cell_type": "code",
   "execution_count": 5,
   "metadata": {},
   "outputs": [
    {
     "data": {
      "image/png": "[encoded data removed]",
      "text/plain": [
       "<Figure size 432x288 with 1 Axes>"
      ]
     },
     "metadata": {
      "image/png": {
       "height": 250,
       "width": 253
      },
      "needs_background": "light"
     },
     "output_type": "display_data"
    }
   ],
   "source": [
    "plt.imshow(images[1].numpy().squeeze(), cmap='Greys_r');"
   ]
  },
  {
   "cell_type": "markdown",
   "metadata": {},
   "source": [
    "First, let's try to build a simple network for this dataset using weight matrices and matrix multiplications. Then, we'll see how to do it using PyTorch's `nn` module which provides a much more convenient and powerful method for defining network architectures.\n",
    "\n",
    "The networks you've seen so far are called *fully-connected* or *dense* networks. Each unit in one layer is connected to each unit in the next layer. In fully-connected networks, the input to each layer must be a one-dimensional vector (which can be stacked into a 2D tensor as a batch of multiple examples). However, our images are 28x28 2D tensors, so we need to convert them into 1D vectors. Thinking about sizes, we need to convert the batch of images with shape `(64, 1, 28, 28)` to a have a shape of `(64, 784)`, 784 is 28 times 28. This is typically called *flattening*, we flattened the 2D images into 1D vectors.\n",
    "\n",
    "Previously you built a network with one output unit. Here we need 10 output units, one for each digit. We want our network to predict the digit shown in an image, so what we'll do is calculate probabilities that the image is of any one digit or class. This ends up being a discrete probability distribution over the classes (digits) that tells us the most likely class for the image. That means we need 10 output units for the 10 classes (digits). We'll see how to convert the network output into a probability distribution next.\n",
    "\n",
    "> **Exercise:** Flatten the batch of images `images`. Then build a multi-layer network with 784 input units, 256 hidden units, and 10 output units using random tensors for the weights and biases. For now, use a sigmoid activation for the hidden layer. Leave the output layer without an activation, we'll add one that gives us a probability distribution next."
   ]
  },
  {
   "cell_type": "code",
   "execution_count": 35,
   "metadata": {},
   "outputs": [
    {
     "name": "stdout",
     "output_type": "stream",
     "text": [
      "Input shape : torch.Size([64, 784])\n",
      "Input :\n",
      " tensor([[-1., -1., -1.,  ..., -1., -1., -1.],\n",
      "        [-1., -1., -1.,  ..., -1., -1., -1.],\n",
      "        [-1., -1., -1.,  ..., -1., -1., -1.],\n",
      "        ...,\n",
      "        [-1., -1., -1.,  ..., -1., -1., -1.],\n",
      "        [-1., -1., -1.,  ..., -1., -1., -1.],\n",
      "        [-1., -1., -1.,  ..., -1., -1., -1.]])\n",
      "W1 :\n",
      " tensor([[-0.0658,  0.3960, -0.0861,  ..., -0.1562,  1.8227, -0.4599],\n",
      "        [ 0.7968,  0.8757,  0.1784,  ...,  0.6377,  0.3868,  0.4625],\n",
      "        [-0.3701,  0.9554, -0.6046,  ...,  2.7421,  1.3786, -0.0406],\n",
      "        ...,\n",
      "        [ 0.7765, -0.0491, -0.2532,  ..., -0.9807,  0.4269,  0.3255],\n",
      "        [ 0.2791, -0.3033,  0.8968,  ...,  0.2884,  1.7395, -0.8667],\n",
      "        [ 1.2277, -0.3809, -0.1347,  ..., -0.3737,  1.2313,  1.9622]])\n",
      "B1 :\n",
      " tensor([ 0.2617,  0.2742, -2.2587,  1.4443, -0.3617,  0.9573,  0.0116, -1.5895,\n",
      "         1.6950,  1.1472,  1.0004,  0.7361, -0.8938, -2.1259,  1.2698,  1.2419,\n",
      "        -0.4449,  0.4581, -1.7318, -1.3499, -0.3787, -0.7721,  0.9645,  0.4811,\n",
      "        -1.0920,  0.2293,  0.5324, -0.3072,  0.0273,  0.5596,  0.3592, -0.3478,\n",
      "         1.2101, -0.5826, -0.3739, -0.7721,  0.1527,  0.0106,  0.8135, -0.2328,\n",
      "         1.4886,  0.0542,  0.4428, -0.9408, -1.3496,  1.1407, -0.8438,  0.6508,\n",
      "        -0.0549, -0.1883, -0.6758, -0.7851,  0.6657, -1.5325,  0.3554,  0.5825,\n",
      "        -0.1264,  2.3446,  0.0241,  0.9567, -0.1976,  0.2994,  0.7364, -1.1371,\n",
      "        -0.2660, -1.0479,  1.2668,  0.6250,  1.0125, -0.4458,  1.0267,  0.8564,\n",
      "         1.6300,  1.3737,  0.2924,  1.1693,  1.2185,  0.3353, -0.4171,  0.7741,\n",
      "        -0.7169,  1.0812,  0.9003, -0.1176, -0.6149,  0.6393, -1.6022,  1.2358,\n",
      "         0.0622, -0.9834, -2.1714, -1.1175, -0.6658,  0.4594, -1.9151,  0.2418,\n",
      "         2.2975, -0.9414, -0.2941, -0.7825,  0.2512, -0.9630,  0.8439,  0.0631,\n",
      "         0.4717,  0.4030, -1.2038,  1.2622,  0.5366,  0.6110, -0.9034, -0.5296,\n",
      "         0.4483, -0.8846, -0.8834, -1.5437,  2.5206, -0.7274, -0.4662, -0.6225,\n",
      "        -0.2588, -1.1906, -0.5561, -0.4896,  0.9602, -0.6292, -0.7630,  0.6349,\n",
      "        -0.0690, -0.4965,  1.7431, -0.1377,  0.2817, -0.9479,  0.2254, -0.9086,\n",
      "         1.9013, -0.2160,  0.8901, -0.2508, -1.1369, -0.2231, -0.0276,  1.4628,\n",
      "         0.7621,  0.2806,  1.0658, -0.4922, -0.4773, -1.6911, -0.0813, -1.4638,\n",
      "        -1.6840,  1.2995,  1.0765,  0.6655, -1.1570,  2.2169, -1.0889, -0.1547,\n",
      "        -1.6630, -0.5771,  0.1623, -0.5076, -1.5664, -0.3597,  0.9540,  1.4386,\n",
      "         0.5078,  0.3293, -0.5042,  0.3120, -2.4546, -1.1182,  0.1706,  1.1642,\n",
      "        -1.7100,  0.9960, -0.7872, -2.5305, -0.9322,  1.4177,  1.3326,  0.2838,\n",
      "        -1.5042, -0.4335, -0.4272, -0.0072,  0.1128,  1.1173, -0.8256,  1.6072,\n",
      "        -0.4595,  2.4640, -0.7788,  0.7483, -1.1108, -1.1969,  1.7275, -1.9809,\n",
      "        -0.1800,  2.5754,  1.2011,  0.0863, -0.1865, -1.0280,  0.4608, -2.2383,\n",
      "        -2.3770, -0.4092, -1.0257, -1.3415,  0.3065, -1.0828, -0.6322,  0.8062,\n",
      "        -1.0175,  0.4002, -1.0400,  0.4782,  0.5045, -0.5842,  0.4075,  0.6971,\n",
      "        -0.2334,  2.0564, -0.0934, -0.8220, -0.9174,  0.1443, -0.5577,  0.6405,\n",
      "        -0.6029,  0.3420, -1.1245,  1.0788,  0.3544,  0.0868,  0.3974,  0.3271,\n",
      "         0.5169, -0.6315, -0.2074,  0.9028,  1.7777,  0.1161, -1.6594, -0.7143,\n",
      "        -0.3883,  1.4446,  0.7008,  0.4117, -0.4246,  0.6890, -0.4992, -0.2547])\n",
      "W2 :\n",
      " tensor([[ 1.2770,  0.3865,  0.5452,  ..., -0.3615, -1.3034,  1.2245],\n",
      "        [-0.2779,  0.2174,  0.2666,  ..., -0.3036, -0.7579, -0.6881],\n",
      "        [-0.3379,  1.2935,  0.1630,  ...,  0.1711, -1.0867, -0.3468],\n",
      "        ...,\n",
      "        [-0.8570,  1.1837,  0.5167,  ..., -1.1452,  1.6957,  1.3421],\n",
      "        [-0.6626, -0.5146, -0.5338,  ..., -0.6362,  0.4629,  1.7808],\n",
      "        [ 0.3867, -0.2357, -0.1193,  ..., -0.1235, -0.4335,  1.1888]])\n",
      "B2 :\n",
      " tensor([ 1.8685,  1.4897, -0.5078,  0.3535,  0.8750, -0.4129, -0.4252,  0.5182,\n",
      "         1.6156,  0.6813])\n",
      "Output :\n",
      " tensor([[9.9944e-01, 7.1512e-01, 3.1213e-01, 2.2330e-13, 7.3478e-12, 1.1366e-09,\n",
      "         1.0000e+00, 7.7641e-03, 1.2005e-02, 1.4585e-03],\n",
      "        [7.3039e-03, 5.5561e-07, 3.7537e-02, 5.5545e-08, 7.7591e-13, 1.6703e-12,\n",
      "         4.9564e-01, 2.0016e-02, 1.6643e-01, 1.4491e-05],\n",
      "        [4.9282e-01, 3.1015e-01, 1.1877e-02, 9.6569e-13, 9.2476e-08, 2.3484e-11,\n",
      "         9.5551e-01, 7.2783e-08, 6.2036e-04, 6.0723e-03],\n",
      "        [9.9999e-01, 7.1533e-01, 7.9585e-01, 4.7257e-09, 5.8883e-14, 2.2338e-10,\n",
      "         9.9319e-01, 1.9294e-02, 9.9498e-01, 9.5644e-01],\n",
      "        [9.9976e-01, 4.3791e-03, 2.4358e-01, 1.5341e-08, 9.6270e-09, 1.3601e-06,\n",
      "         9.9965e-01, 1.7263e-03, 2.2208e-05, 4.5644e-01],\n",
      "        [9.6457e-01, 2.0468e-05, 3.4627e-01, 5.7225e-09, 8.3555e-08, 2.7680e-06,\n",
      "         9.9521e-01, 8.8968e-03, 1.4011e-04, 7.0404e-01],\n",
      "        [9.9910e-01, 6.5847e-01, 3.5825e-01, 3.4594e-08, 1.8696e-10, 2.7182e-13,\n",
      "         7.2301e-01, 3.2896e-04, 8.7670e-01, 1.1786e-01],\n",
      "        [5.1286e-01, 6.9187e-01, 1.3378e-01, 2.5566e-07, 4.6189e-11, 1.6994e-11,\n",
      "         1.1176e-03, 5.7975e-05, 7.2806e-02, 2.9993e-01],\n",
      "        [9.9886e-01, 2.0990e-04, 2.8269e-01, 6.6282e-07, 6.1212e-09, 3.3252e-08,\n",
      "         2.6314e-03, 8.1070e-01, 1.1912e-02, 9.9711e-01],\n",
      "        [9.9969e-01, 1.4209e-04, 7.2233e-02, 3.7001e-07, 2.0124e-07, 1.5015e-11,\n",
      "         9.7429e-01, 3.2978e-02, 1.8300e-02, 9.9966e-01],\n",
      "        [9.5093e-01, 1.5329e-01, 3.4004e-04, 6.5620e-08, 1.6901e-10, 1.0169e-08,\n",
      "         9.0625e-01, 1.1512e-02, 7.3509e-02, 9.6433e-01],\n",
      "        [4.0032e-02, 1.1150e-09, 6.9433e-02, 1.6455e-11, 2.6428e-09, 1.5000e-07,\n",
      "         9.5422e-01, 1.1164e-03, 9.2270e-01, 1.0182e-01],\n",
      "        [2.2814e-01, 3.1832e-06, 2.1146e-02, 4.0645e-14, 6.7087e-10, 3.5731e-10,\n",
      "         9.4286e-01, 1.5578e-03, 9.8235e-01, 4.4982e-01],\n",
      "        [9.9908e-01, 7.9953e-03, 9.8204e-01, 7.7024e-13, 9.9083e-11, 2.3104e-09,\n",
      "         4.8834e-01, 7.3814e-02, 1.7307e-02, 3.5360e-02],\n",
      "        [9.6412e-01, 6.2707e-02, 7.9193e-01, 2.7600e-09, 1.2489e-11, 2.2351e-09,\n",
      "         1.2831e-01, 1.1506e-03, 1.7197e-01, 5.4076e-02],\n",
      "        [8.8638e-01, 6.2164e-02, 8.7873e-01, 1.1745e-11, 4.9544e-10, 4.8041e-04,\n",
      "         9.9991e-01, 5.6914e-01, 9.6760e-01, 8.9099e-03],\n",
      "        [7.1857e-01, 9.8805e-03, 6.5558e-01, 1.2455e-07, 5.8430e-12, 1.2308e-05,\n",
      "         9.9871e-01, 9.8866e-01, 9.8679e-01, 5.3992e-03],\n",
      "        [9.9917e-01, 7.6164e-03, 1.9696e-05, 9.7381e-12, 9.7778e-11, 3.8271e-09,\n",
      "         8.6426e-01, 5.3622e-01, 3.4032e-01, 9.0593e-01],\n",
      "        [3.7344e-01, 2.9212e-03, 1.4233e-05, 1.0563e-09, 1.9484e-07, 1.3582e-08,\n",
      "         5.9130e-02, 9.6129e-01, 9.9877e-01, 9.9862e-01],\n",
      "        [1.3235e-01, 3.6875e-01, 8.4751e-03, 4.8799e-09, 8.9143e-09, 4.4093e-12,\n",
      "         5.6615e-01, 6.5021e-01, 2.6348e-07, 3.4041e-04],\n",
      "        [9.9991e-01, 2.6915e-04, 4.4946e-03, 3.4159e-10, 1.0239e-09, 1.6952e-10,\n",
      "         3.3525e-01, 9.9322e-01, 1.3742e-07, 9.9719e-01],\n",
      "        [8.1638e-02, 9.6577e-01, 4.4093e-01, 6.0736e-10, 5.3500e-09, 1.7497e-09,\n",
      "         4.0648e-03, 1.9950e-02, 2.1983e-01, 9.9083e-01],\n",
      "        [7.3615e-01, 6.0742e-01, 3.1783e-01, 1.0550e-11, 3.2669e-08, 3.3569e-10,\n",
      "         8.9160e-01, 2.1865e-04, 3.1930e-01, 9.9906e-01],\n",
      "        [9.0657e-02, 1.3188e-03, 1.6366e-02, 7.4956e-13, 1.8011e-11, 6.9738e-03,\n",
      "         4.7852e-01, 9.7814e-01, 1.3976e-04, 7.0669e-01],\n",
      "        [9.8764e-01, 2.9929e-02, 5.6010e-06, 8.6006e-12, 5.0899e-12, 5.7339e-07,\n",
      "         3.5436e-03, 9.9983e-01, 6.8484e-02, 9.9838e-01],\n",
      "        [9.7742e-01, 4.2713e-02, 4.7206e-01, 2.1950e-08, 1.8559e-10, 8.9379e-08,\n",
      "         9.6537e-02, 7.3903e-03, 3.0628e-01, 5.9573e-03],\n",
      "        [9.0589e-01, 6.3393e-03, 4.6107e-01, 7.2058e-11, 1.3755e-09, 2.1150e-08,\n",
      "         9.5496e-01, 6.8441e-01, 7.5829e-01, 4.6843e-05],\n",
      "        [1.5581e-01, 7.8151e-03, 7.3794e-01, 4.7978e-09, 5.9334e-09, 4.5679e-10,\n",
      "         9.9593e-01, 7.5362e-01, 6.0676e-03, 4.0122e-03],\n",
      "        [8.8193e-01, 1.2442e-02, 3.5466e-02, 2.7420e-09, 4.4304e-09, 6.3448e-07,\n",
      "         1.0674e-02, 1.8879e-03, 1.2422e-02, 9.9564e-01],\n",
      "        [6.5875e-03, 4.8761e-02, 6.0058e-03, 7.3565e-13, 1.7247e-10, 4.6084e-10,\n",
      "         2.9887e-01, 9.7047e-03, 1.6986e-04, 1.5291e-04],\n",
      "        [8.9694e-02, 7.1876e-04, 1.1761e-02, 6.1601e-12, 2.3805e-06, 9.9379e-14,\n",
      "         9.6549e-01, 2.1913e-01, 9.9447e-01, 9.9809e-01],\n",
      "        [9.9615e-01, 9.9193e-01, 1.4350e-04, 2.8761e-14, 5.8102e-12, 3.0159e-07,\n",
      "         9.8577e-01, 1.8663e-03, 4.9513e-01, 9.9005e-01],\n",
      "        [1.0000e+00, 8.8714e-04, 7.9194e-01, 1.5344e-09, 9.1467e-11, 4.5687e-09,\n",
      "         9.3774e-01, 9.1780e-02, 6.1336e-01, 1.2050e-02],\n",
      "        [9.9998e-01, 1.7019e-02, 5.3863e-01, 3.7668e-10, 1.1471e-09, 1.9710e-09,\n",
      "         8.5382e-02, 2.2863e-04, 2.1518e-02, 4.1931e-02],\n",
      "        [5.7976e-01, 1.1363e-01, 1.0388e-03, 3.9100e-12, 6.0213e-11, 5.5319e-05,\n",
      "         9.9313e-04, 9.9999e-01, 9.9326e-01, 6.2254e-01],\n",
      "        [9.9920e-01, 2.0391e-01, 2.0904e-01, 1.0335e-06, 4.8578e-08, 1.1256e-09,\n",
      "         4.1852e-01, 2.6556e-04, 1.9168e-03, 9.9999e-01],\n",
      "        [9.9562e-01, 5.4109e-02, 6.1504e-01, 4.9056e-12, 4.3429e-10, 4.6392e-13,\n",
      "         2.2355e-01, 2.2251e-03, 5.6647e-01, 1.2636e-01],\n",
      "        [9.1502e-01, 1.3298e-02, 4.1987e-07, 1.4224e-16, 6.6247e-09, 3.0598e-05,\n",
      "         6.3154e-04, 9.9852e-01, 9.8938e-01, 4.3783e-01],\n",
      "        [9.5531e-01, 7.4065e-01, 8.2252e-04, 1.9266e-08, 2.6689e-14, 1.5675e-10,\n",
      "         9.9987e-01, 1.3170e-03, 6.1208e-01, 7.0303e-05],\n",
      "        [5.8684e-03, 7.5286e-05, 4.1547e-03, 9.9870e-14, 1.2139e-12, 7.2999e-08,\n",
      "         1.0000e+00, 9.9749e-04, 1.0247e-01, 1.5877e-04],\n",
      "        [9.9948e-01, 9.1457e-01, 5.6814e-01, 7.1031e-06, 2.6229e-09, 1.4576e-11,\n",
      "         8.2680e-01, 5.6420e-01, 7.3210e-04, 9.6769e-01],\n",
      "        [9.3834e-01, 1.0018e-01, 9.9110e-01, 7.9513e-10, 3.3424e-09, 2.3558e-10,\n",
      "         6.6051e-01, 5.0608e-02, 1.5183e-04, 7.7661e-02],\n",
      "        [6.5395e-01, 1.6954e-05, 3.1607e-01, 1.4866e-11, 1.2291e-10, 3.7795e-07,\n",
      "         5.4023e-02, 9.7270e-03, 8.7746e-04, 3.6960e-01],\n",
      "        [3.1113e-01, 4.6613e-03, 4.2862e-01, 8.9751e-13, 9.5032e-10, 2.0706e-08,\n",
      "         9.9926e-01, 2.1066e-02, 2.0610e-03, 2.6445e-04],\n",
      "        [5.0891e-01, 8.7755e-04, 2.2716e-01, 1.3143e-11, 6.7273e-08, 2.3133e-06,\n",
      "         4.8853e-01, 4.7280e-04, 6.6271e-02, 9.3682e-01],\n",
      "        [5.8172e-01, 1.4407e-01, 4.6231e-01, 1.0525e-13, 1.2745e-11, 1.9724e-09,\n",
      "         8.6870e-02, 4.3781e-04, 4.1947e-05, 6.2027e-01],\n",
      "        [9.8871e-01, 9.5983e-01, 4.3286e-01, 1.8627e-04, 2.7453e-08, 6.9644e-13,\n",
      "         1.5653e-02, 1.0697e-03, 4.9381e-01, 6.2200e-02],\n",
      "        [9.3752e-01, 9.0922e-01, 4.2782e-01, 1.1389e-07, 6.9999e-08, 4.2838e-13,\n",
      "         4.1416e-05, 8.2289e-01, 5.1094e-04, 9.8535e-01],\n",
      "        [7.5584e-01, 3.3915e-03, 7.6654e-06, 3.5436e-13, 2.6600e-11, 1.8109e-08,\n",
      "         9.4607e-01, 2.3731e-07, 8.0210e-01, 9.9928e-01],\n",
      "        [9.1439e-01, 2.3005e-06, 1.0574e-04, 2.4474e-08, 2.4320e-11, 5.0218e-08,\n",
      "         1.5454e-01, 5.5751e-01, 9.6533e-01, 9.9973e-01],\n",
      "        [9.9996e-01, 4.3057e-02, 8.4030e-02, 5.8161e-09, 3.3354e-07, 3.7282e-13,\n",
      "         3.5162e-01, 1.5051e-01, 1.7392e-03, 6.5075e-01],\n",
      "        [9.9934e-01, 7.8938e-01, 9.8867e-01, 1.0293e-11, 1.5360e-13, 8.3992e-12,\n",
      "         9.9988e-01, 1.4803e-03, 3.2333e-02, 8.1896e-01],\n",
      "        [9.8965e-01, 9.9966e-01, 8.7695e-02, 4.9604e-11, 2.6268e-11, 2.0065e-07,\n",
      "         4.0290e-02, 9.4418e-01, 5.6504e-03, 5.7184e-01],\n",
      "        [1.0886e-01, 2.4947e-03, 1.2067e-04, 1.0158e-12, 4.3264e-12, 2.7527e-08,\n",
      "         7.4104e-01, 9.7450e-05, 2.4981e-03, 2.5521e-01],\n",
      "        [9.9984e-01, 2.0842e-05, 1.8070e-05, 4.4622e-09, 6.2569e-12, 2.3447e-09,\n",
      "         8.6530e-01, 4.2155e-01, 8.6835e-01, 4.5873e-01],\n",
      "        [1.5966e-01, 4.9066e-02, 4.6762e-01, 8.7003e-12, 4.7854e-11, 3.7860e-12,\n",
      "         9.6909e-01, 1.4641e-03, 9.5689e-01, 6.7146e-01],\n",
      "        [9.9058e-01, 1.1340e-03, 2.8613e-02, 2.2090e-08, 4.1345e-10, 2.4473e-06,\n",
      "         8.7798e-01, 7.4386e-03, 5.1059e-01, 4.5274e-01],\n",
      "        [4.6805e-02, 9.5012e-02, 2.5664e-01, 4.9744e-08, 3.6640e-11, 7.1062e-10,\n",
      "         3.9679e-01, 8.2088e-02, 1.1587e-04, 9.9932e-01],\n",
      "        [9.9974e-01, 2.0876e-04, 5.0894e-08, 9.3706e-11, 7.4640e-11, 2.7062e-10,\n",
      "         9.2938e-01, 9.9834e-01, 9.0316e-01, 9.9957e-01],\n",
      "        [9.2125e-01, 3.7662e-03, 1.6034e-03, 6.8443e-10, 5.7779e-12, 1.1240e-11,\n",
      "         9.9751e-01, 4.6710e-03, 7.0391e-01, 9.9845e-01],\n",
      "        [9.9990e-01, 5.8268e-02, 9.5505e-02, 1.4839e-10, 3.2768e-12, 5.3389e-13,\n",
      "         2.3833e-03, 6.9531e-01, 5.6048e-01, 7.4388e-03],\n",
      "        [9.9844e-01, 1.0264e-04, 2.7841e-03, 5.1060e-13, 4.8206e-11, 4.1889e-10,\n",
      "         1.0000e+00, 1.4880e-01, 6.8970e-02, 7.4328e-01],\n",
      "        [9.8837e-01, 2.2706e-03, 4.5691e-01, 1.2327e-09, 7.5095e-08, 8.4545e-13,\n",
      "         1.2552e-01, 7.3228e-04, 1.1312e-02, 2.6798e-03],\n",
      "        [1.1703e-03, 3.5556e-04, 5.4597e-02, 3.7527e-14, 1.2420e-13, 5.3996e-08,\n",
      "         4.3749e-01, 8.4380e-02, 6.0148e-02, 2.8104e-01]])\n"
     ]
    }
   ],
   "source": [
    "## Your solution\n",
    "n_input = 28*28\n",
    "n_hidden = 256\n",
    "n_output = 10\n",
    "\n",
    "# features = images.view(images.shape[0], -1)\n",
    "# print(\"Input shape :\", features.shape)\n",
    "features = images.view(64, n_input)\n",
    "print(\"Input shape :\", features.shape)\n",
    "print(\"Input :\\n\", features)\n",
    "W1 = torch.randn(n_input, n_hidden)\n",
    "print(\"W1 :\\n\", W1)\n",
    "B1 = torch.randn(n_hidden)\n",
    "print(\"B1 :\\n\", B1)\n",
    "W2 = torch.randn(n_hidden, n_output)\n",
    "print(\"W2 :\\n\", W2)\n",
    "B2 = torch.randn(n_output)\n",
    "print(\"B2 :\\n\", B2)\n",
    "out = torch.mm(features, W1) + B1\n",
    "# Activation function\n",
    "out = 1/(1+torch.exp(-out))\n",
    "out = torch.mm(out, W2) + B2\n",
    "# Activation function\n",
    "out = 1/(1+torch.exp(-out))\n",
    "print(\"Output :\\n\", out)\n",
    "\n",
    "out = out # output of your network, should have shape (64,10)"
   ]
  },
  {
   "cell_type": "markdown",
   "metadata": {},
   "source": [
    "Now we have 10 outputs for our network. We want to pass in an image to our network and get out a probability distribution over the classes that tells us the likely class(es) the image belongs to. Something that looks like this:\n",
    "<img src='assets/image_distribution.png' width=500px>\n",
    "\n",
    "Here we see that the probability for each class is roughly the same. This is representing an untrained network, it hasn't seen any data yet so it just returns a uniform distribution with equal probabilities for each class.\n",
    "\n",
    "To calculate this probability distribution, we often use the [**softmax** function](https://en.wikipedia.org/wiki/Softmax_function). Mathematically this looks like\n",
    "\n",
    "$$\n",
    "\\Large \\sigma(x_i) = \\cfrac{e^{x_i}}{\\sum_k^K{e^{x_k}}}\n",
    "$$\n",
    "\n",
    "What this does is squish each input $x_i$ between 0 and 1 and normalizes the values to give you a proper probability distribution where the probabilites sum up to one.\n",
    "\n",
    "> **Exercise:** Implement a function `softmax` that performs the softmax calculation and returns probability distributions for each example in the batch. Note that you'll need to pay attention to the shapes when doing this. If you have a tensor `a` with shape `(64, 10)` and a tensor `b` with shape `(64,)`, doing `a/b` will give you an error because PyTorch will try to do the division across the columns (called broadcasting) but you'll get a size mismatch. The way to think about this is for each of the 64 examples, you only want to divide by one value, the sum in the denominator. So you need `b` to have a shape of `(64, 1)`. This way PyTorch will divide the 10 values in each row of `a` by the one value in each row of `b`. Pay attention to how you take the sum as well. You'll need to define the `dim` keyword in `torch.sum`. Setting `dim=0` takes the sum across the rows while `dim=1` takes the sum across the columns."
   ]
  },
  {
   "cell_type": "code",
   "execution_count": 36,
   "metadata": {},
   "outputs": [
    {
     "name": "stdout",
     "output_type": "stream",
     "text": [
      "torch.Size([64, 10])\n",
      "tensor([1.0000, 1.0000, 1.0000, 1.0000, 1.0000, 1.0000, 1.0000, 1.0000, 1.0000,\n",
      "        1.0000, 1.0000, 1.0000, 1.0000, 1.0000, 1.0000, 1.0000, 1.0000, 1.0000,\n",
      "        1.0000, 1.0000, 1.0000, 1.0000, 1.0000, 1.0000, 1.0000, 1.0000, 1.0000,\n",
      "        1.0000, 1.0000, 1.0000, 1.0000, 1.0000, 1.0000, 1.0000, 1.0000, 1.0000,\n",
      "        1.0000, 1.0000, 1.0000, 1.0000, 1.0000, 1.0000, 1.0000, 1.0000, 1.0000,\n",
      "        1.0000, 1.0000, 1.0000, 1.0000, 1.0000, 1.0000, 1.0000, 1.0000, 1.0000,\n",
      "        1.0000, 1.0000, 1.0000, 1.0000, 1.0000, 1.0000, 1.0000, 1.0000, 1.0000,\n",
      "        1.0000])\n"
     ]
    }
   ],
   "source": [
    "def softmax(x):\n",
    "    ## TODO: Implement the softmax function here\n",
    "    return torch.exp(x)/torch.sum(torch.exp(x), dim=1).view(-1, 1)\n",
    "\n",
    "# Here, out should be the output of the network in the previous excercise with shape (64,10)\n",
    "probabilities = softmax(out)\n",
    "\n",
    "# Does it have the right shape? Should be (64, 10)\n",
    "print(probabilities.shape)\n",
    "# Does it sum to 1?\n",
    "print(probabilities.sum(dim=1))"
   ]
  },
  {
   "cell_type": "markdown",
   "metadata": {},
   "source": [
    "## Building networks with PyTorch\n",
    "\n",
    "PyTorch provides a module `nn` that makes building networks much simpler. Here I'll show you how to build the same one as above with 784 inputs, 256 hidden units, 10 output units and a softmax output."
   ]
  },
  {
   "cell_type": "code",
   "execution_count": 37,
   "metadata": {},
   "outputs": [],
   "source": [
    "from torch import nn"
   ]
  },
  {
   "cell_type": "code",
   "execution_count": 38,
   "metadata": {},
   "outputs": [],
   "source": [
    "class Network(nn.Module):\n",
    "    def __init__(self):\n",
    "        super().__init__()\n",
    "        \n",
    "        # Inputs to hidden layer linear transformation\n",
    "        self.hidden = nn.Linear(784, 256)\n",
    "        # Output layer, 10 units - one for each digit\n",
    "        self.output = nn.Linear(256, 10)\n",
    "        \n",
    "        # Define sigmoid activation and softmax output \n",
    "        self.sigmoid = nn.Sigmoid()\n",
    "        self.softmax = nn.Softmax(dim=1)\n",
    "        \n",
    "    def forward(self, x):\n",
    "        # Pass the input tensor through each of our operations\n",
    "        x = self.hidden(x)\n",
    "        x = self.sigmoid(x)\n",
    "        x = self.output(x)\n",
    "        x = self.softmax(x)\n",
    "        \n",
    "        return x"
   ]
  },
  {
   "cell_type": "markdown",
   "metadata": {},
   "source": [
    "Let's go through this bit by bit.\n",
    "\n",
    "```python\n",
    "class Network(nn.Module):\n",
    "```\n",
    "\n",
    "Here we're inheriting from `nn.Module`. Combined with `super().__init__()` this creates a class that tracks the architecture and provides a lot of useful methods and attributes. It is mandatory to inherit from `nn.Module` when you're creating a class for your network. The name of the class itself can be anything.\n",
    "\n",
    "```python\n",
    "self.hidden = nn.Linear(784, 256)\n",
    "```\n",
    "\n",
    "This line creates a module for a linear transformation, $x\\mathbf{W} + b$, with 784 inputs and 256 outputs and assigns it to `self.hidden`. The module automatically creates the weight and bias tensors which we'll use in the `forward` method. You can access the weight and bias tensors once the network (`net`) is created with `net.hidden.weight` and `net.hidden.bias`.\n",
    "\n",
    "```python\n",
    "self.output = nn.Linear(256, 10)\n",
    "```\n",
    "\n",
    "Similarly, this creates another linear transformation with 256 inputs and 10 outputs.\n",
    "\n",
    "```python\n",
    "self.sigmoid = nn.Sigmoid()\n",
    "self.softmax = nn.Softmax(dim=1)\n",
    "```\n",
    "\n",
    "Here I defined operations for the sigmoid activation and softmax output. Setting `dim=1` in `nn.Softmax(dim=1)` calculates softmax across the columns.\n",
    "\n",
    "```python\n",
    "def forward(self, x):\n",
    "```\n",
    "\n",
    "PyTorch networks created with `nn.Module` must have a `forward` method defined. It takes in a tensor `x` and passes it through the operations you defined in the `__init__` method.\n",
    "\n",
    "```python\n",
    "x = self.hidden(x)\n",
    "x = self.sigmoid(x)\n",
    "x = self.output(x)\n",
    "x = self.softmax(x)\n",
    "```\n",
    "\n",
    "Here the input tensor `x` is passed through each operation a reassigned to `x`. We can see that the input tensor goes through the hidden layer, then a sigmoid function, then the output layer, and finally the softmax function. It doesn't matter what you name the variables here, as long as the inputs and outputs of the operations match the network architecture you want to build. The order in which you define things in the `__init__` method doesn't matter, but you'll need to sequence the operations correctly in the `forward` method.\n",
    "\n",
    "Now we can create a `Network` object."
   ]
  },
  {
   "cell_type": "code",
   "execution_count": 39,
   "metadata": {},
   "outputs": [
    {
     "data": {
      "text/plain": [
       "Network(\n",
       "  (hidden): Linear(in_features=784, out_features=256, bias=True)\n",
       "  (output): Linear(in_features=256, out_features=10, bias=True)\n",
       "  (sigmoid): Sigmoid()\n",
       "  (softmax): Softmax()\n",
       ")"
      ]
     },
     "execution_count": 39,
     "metadata": {},
     "output_type": "execute_result"
    }
   ],
   "source": [
    "# Create the network and look at it's text representation\n",
    "model = Network()\n",
    "model"
   ]
  },
  {
   "cell_type": "markdown",
   "metadata": {},
   "source": [
    "You can define the network somewhat more concisely and clearly using the `torch.nn.functional` module. This is the most common way you'll see networks defined as many operations are simple element-wise functions. We normally import this module as `F`, `import torch.nn.functional as F`."
   ]
  },
  {
   "cell_type": "code",
   "execution_count": 40,
   "metadata": {},
   "outputs": [],
   "source": [
    "import torch.nn.functional as F\n",
    "\n",
    "class Network(nn.Module):\n",
    "    def __init__(self):\n",
    "        super().__init__()\n",
    "        # Inputs to hidden layer linear transformation\n",
    "        self.hidden = nn.Linear(784, 256)\n",
    "        # Output layer, 10 units - one for each digit\n",
    "        self.output = nn.Linear(256, 10)\n",
    "        \n",
    "    def forward(self, x):\n",
    "        # Hidden layer with sigmoid activation\n",
    "        x = F.sigmoid(self.hidden(x))\n",
    "        # Output layer with softmax activation\n",
    "        x = F.softmax(self.output(x), dim=1)\n",
    "        \n",
    "        return x"
   ]
  },
  {
   "cell_type": "markdown",
   "metadata": {},
   "source": [
    "### Activation functions\n",
    "\n",
    "So far we've only been looking at the softmax activation, but in general any function can be used as an activation function. The only requirement is that for a network to approximate a non-linear function, the activation functions must be non-linear. Here are a few more examples of common activation functions: Tanh (hyperbolic tangent), and ReLU (rectified linear unit).\n",
    "\n",
    "<img src=\"assets/activation.png\" width=700px>\n",
    "\n",
    "In practice, the ReLU function is used almost exclusively as the activation function for hidden layers."
   ]
  },
  {
   "cell_type": "markdown",
   "metadata": {},
   "source": [
    "### Your Turn to Build a Network\n",
    "\n",
    "<img src=\"assets/mlp_mnist.png\" width=600px>\n",
    "\n",
    "> **Exercise:** Create a network with 784 input units, a hidden layer with 128 units and a ReLU activation, then a hidden layer with 64 units and a ReLU activation, and finally an output layer with a softmax activation as shown above. You can use a ReLU activation with the `nn.ReLU` module or `F.relu` function."
   ]
  },
  {
   "cell_type": "code",
   "execution_count": 57,
   "metadata": {
    "scrolled": true
   },
   "outputs": [
    {
     "data": {
      "text/plain": [
       "Network(\n",
       "  (fc1): Linear(in_features=784, out_features=128, bias=True)\n",
       "  (fc2): Linear(in_features=128, out_features=64, bias=True)\n",
       "  (fc3): Linear(in_features=64, out_features=10, bias=True)\n",
       ")"
      ]
     },
     "execution_count": 57,
     "metadata": {},
     "output_type": "execute_result"
    }
   ],
   "source": [
    "## Your solution here\n",
    "import torch.nn.functional as F\n",
    "\n",
    "class Network(nn.Module):\n",
    "    def __init__(self):\n",
    "        super().__init__()\n",
    "        # Inputs to hidden layer linear transformation\n",
    "        self.fc1 = nn.Linear(784, 128)\n",
    "        self.fc2 = nn.Linear(128, 64)\n",
    "        # Output layer, 10 units - one for each digit\n",
    "        self.fc3 = nn.Linear(64, 10)\n",
    "        \n",
    "    def forward(self, x):\n",
    "        # Hidden layer 1 with relu activation\n",
    "        x = F.relu(self.fc1(x))\n",
    "        # Hidden layer 2 with relu activation\n",
    "        x = F.relu(self.fc2(x))\n",
    "        x = F.softmax(self.fc3(x), dim=1)\n",
    "        \n",
    "        return x\n",
    "    \n",
    "model = Network()\n",
    "model"
   ]
  },
  {
   "cell_type": "markdown",
   "metadata": {},
   "source": [
    "### Initializing weights and biases\n",
    "\n",
    "The weights and such are automatically initialized for you, but it's possible to customize how they are initialized. The weights and biases are tensors attached to the layer you defined, you can get them with `model.fc1.weight` for instance."
   ]
  },
  {
   "cell_type": "code",
   "execution_count": 58,
   "metadata": {},
   "outputs": [
    {
     "name": "stdout",
     "output_type": "stream",
     "text": [
      "Parameter containing:\n",
      "tensor([[ 0.0158,  0.0118, -0.0268,  ...,  0.0184,  0.0052, -0.0164],\n",
      "        [ 0.0067,  0.0253, -0.0240,  ...,  0.0279,  0.0237, -0.0266],\n",
      "        [-0.0218, -0.0116, -0.0002,  ..., -0.0225,  0.0013, -0.0198],\n",
      "        ...,\n",
      "        [-0.0157, -0.0143, -0.0104,  ...,  0.0341, -0.0323,  0.0263],\n",
      "        [-0.0224,  0.0172, -0.0170,  ...,  0.0012, -0.0188,  0.0209],\n",
      "        [-0.0229,  0.0115,  0.0324,  ..., -0.0326,  0.0280,  0.0274]],\n",
      "       requires_grad=True)\n",
      "Parameter containing:\n",
      "tensor([-0.0083, -0.0117, -0.0252,  0.0300, -0.0137, -0.0282,  0.0158, -0.0185,\n",
      "        -0.0247, -0.0240,  0.0124,  0.0154,  0.0141,  0.0022, -0.0296, -0.0077,\n",
      "         0.0199,  0.0262, -0.0159,  0.0295, -0.0308, -0.0273, -0.0191, -0.0195,\n",
      "        -0.0183, -0.0110, -0.0037,  0.0237,  0.0348,  0.0113,  0.0034, -0.0334,\n",
      "         0.0055,  0.0232,  0.0089, -0.0005, -0.0036,  0.0265,  0.0123, -0.0266,\n",
      "         0.0343, -0.0203,  0.0282, -0.0231,  0.0236,  0.0043,  0.0147, -0.0006,\n",
      "        -0.0055, -0.0019, -0.0100,  0.0078, -0.0013, -0.0346,  0.0321,  0.0335,\n",
      "        -0.0222, -0.0023, -0.0052, -0.0350, -0.0285,  0.0333, -0.0106,  0.0332,\n",
      "         0.0295, -0.0242,  0.0032, -0.0135,  0.0151,  0.0346, -0.0298, -0.0261,\n",
      "         0.0000, -0.0017,  0.0144,  0.0012, -0.0119,  0.0319,  0.0110,  0.0348,\n",
      "         0.0043,  0.0197,  0.0088,  0.0068,  0.0084,  0.0059,  0.0240,  0.0281,\n",
      "        -0.0341, -0.0230, -0.0331, -0.0262, -0.0336,  0.0351, -0.0323,  0.0226,\n",
      "        -0.0144, -0.0354,  0.0066, -0.0099, -0.0337,  0.0176, -0.0061, -0.0013,\n",
      "        -0.0100,  0.0138,  0.0051,  0.0304, -0.0118,  0.0297,  0.0279,  0.0111,\n",
      "         0.0343, -0.0205,  0.0005, -0.0322, -0.0245, -0.0254,  0.0041,  0.0258,\n",
      "        -0.0103, -0.0055, -0.0348, -0.0099,  0.0200,  0.0232,  0.0266,  0.0027],\n",
      "       requires_grad=True)\n"
     ]
    }
   ],
   "source": [
    "print(model.fc1.weight)\n",
    "print(model.fc1.bias)"
   ]
  },
  {
   "cell_type": "markdown",
   "metadata": {},
   "source": [
    "For custom initialization, we want to modify these tensors in place. These are actually autograd *Variables*, so we need to get back the actual tensors with `model.fc1.weight.data`. Once we have the tensors, we can fill them with zeros (for biases) or random normal values."
   ]
  },
  {
   "cell_type": "code",
   "execution_count": 59,
   "metadata": {},
   "outputs": [
    {
     "data": {
      "text/plain": [
       "tensor([0., 0., 0., 0., 0., 0., 0., 0., 0., 0., 0., 0., 0., 0., 0., 0., 0., 0.,\n",
       "        0., 0., 0., 0., 0., 0., 0., 0., 0., 0., 0., 0., 0., 0., 0., 0., 0., 0.,\n",
       "        0., 0., 0., 0., 0., 0., 0., 0., 0., 0., 0., 0., 0., 0., 0., 0., 0., 0.,\n",
       "        0., 0., 0., 0., 0., 0., 0., 0., 0., 0., 0., 0., 0., 0., 0., 0., 0., 0.,\n",
       "        0., 0., 0., 0., 0., 0., 0., 0., 0., 0., 0., 0., 0., 0., 0., 0., 0., 0.,\n",
       "        0., 0., 0., 0., 0., 0., 0., 0., 0., 0., 0., 0., 0., 0., 0., 0., 0., 0.,\n",
       "        0., 0., 0., 0., 0., 0., 0., 0., 0., 0., 0., 0., 0., 0., 0., 0., 0., 0.,\n",
       "        0., 0.])"
      ]
     },
     "execution_count": 59,
     "metadata": {},
     "output_type": "execute_result"
    }
   ],
   "source": [
    "# Set biases to all zeros\n",
    "model.fc1.bias.data.fill_(0)"
   ]
  },
  {
   "cell_type": "code",
   "execution_count": 60,
   "metadata": {},
   "outputs": [
    {
     "data": {
      "text/plain": [
       "tensor([[ 0.0132,  0.0110,  0.0107,  ..., -0.0081,  0.0011,  0.0062],\n",
       "        [-0.0028, -0.0130,  0.0053,  ...,  0.0116,  0.0045, -0.0067],\n",
       "        [-0.0057, -0.0050, -0.0023,  ..., -0.0079,  0.0128,  0.0010],\n",
       "        ...,\n",
       "        [-0.0159, -0.0065,  0.0062,  ...,  0.0114,  0.0044, -0.0037],\n",
       "        [-0.0065, -0.0133,  0.0018,  ..., -0.0091,  0.0173,  0.0029],\n",
       "        [-0.0139,  0.0080,  0.0108,  ..., -0.0156, -0.0035, -0.0037]])"
      ]
     },
     "execution_count": 60,
     "metadata": {},
     "output_type": "execute_result"
    }
   ],
   "source": [
    "# sample from random normal with standard dev = 0.01\n",
    "model.fc1.weight.data.normal_(std=0.01)"
   ]
  },
  {
   "cell_type": "markdown",
   "metadata": {},
   "source": [
    "### Forward pass\n",
    "\n",
    "Now that we have a network, let's see what happens when we pass in an image."
   ]
  },
  {
   "cell_type": "code",
   "execution_count": 61,
   "metadata": {},
   "outputs": [
    {
     "data": {
      "image/png": "[encoded data removed]",
      "text/plain": [
       "<Figure size 432x648 with 2 Axes>"
      ]
     },
     "metadata": {
      "image/png": {
       "height": 226,
       "width": 423
      },
      "needs_background": "light"
     },
     "output_type": "display_data"
    }
   ],
   "source": [
    "# Grab some data \n",
    "dataiter = iter(trainloader)\n",
    "images, labels = dataiter.next()\n",
    "\n",
    "# Resize images into a 1D vector, new shape is (batch size, color channels, image pixels) \n",
    "images.resize_(64, 1, 784)\n",
    "# or images.resize_(images.shape[0], 1, 784) to automatically get batch size\n",
    "\n",
    "# Forward pass through the network\n",
    "img_idx = 0\n",
    "ps = model.forward(images[img_idx,:])\n",
    "\n",
    "img = images[img_idx]\n",
    "helper.view_classify(img.view(1, 28, 28), ps)"
   ]
  },
  {
   "cell_type": "markdown",
   "metadata": {},
   "source": [
    "As you can see above, our network has basically no idea what this digit is. It's because we haven't trained it yet, all the weights are random!\n",
    "\n",
    "### Using `nn.Sequential`\n",
    "\n",
    "PyTorch provides a convenient way to build networks like this where a tensor is passed sequentially through operations, `nn.Sequential` ([documentation](https://pytorch.org/docs/master/nn.html#torch.nn.Sequential)). Using this to build the equivalent network:"
   ]
  },
  {
   "cell_type": "code",
   "execution_count": 62,
   "metadata": {},
   "outputs": [
    {
     "name": "stdout",
     "output_type": "stream",
     "text": [
      "Sequential(\n",
      "  (0): Linear(in_features=784, out_features=128, bias=True)\n",
      "  (1): ReLU()\n",
      "  (2): Linear(in_features=128, out_features=64, bias=True)\n",
      "  (3): ReLU()\n",
      "  (4): Linear(in_features=64, out_features=10, bias=True)\n",
      "  (5): Softmax()\n",
      ")\n"
     ]
    },
    {
     "data": {
      "image/png": "[encoded data removed]",
      "text/plain": [
       "<Figure size 432x648 with 2 Axes>"
      ]
     },
     "metadata": {
      "image/png": {
       "height": 226,
       "width": 423
      },
      "needs_background": "light"
     },
     "output_type": "display_data"
    }
   ],
   "source": [
    "# Hyperparameters for our network\n",
    "input_size = 784\n",
    "hidden_sizes = [128, 64]\n",
    "output_size = 10\n",
    "\n",
    "# Build a feed-forward network\n",
    "model = nn.Sequential(nn.Linear(input_size, hidden_sizes[0]),\n",
    "                      nn.ReLU(),\n",
    "                      nn.Linear(hidden_sizes[0], hidden_sizes[1]),\n",
    "                      nn.ReLU(),\n",
    "                      nn.Linear(hidden_sizes[1], output_size),\n",
    "                      nn.Softmax(dim=1))\n",
    "print(model)\n",
    "\n",
    "# Forward pass through the network and display output\n",
    "images, labels = next(iter(trainloader))\n",
    "images.resize_(images.shape[0], 1, 784)\n",
    "ps = model.forward(images[0,:])\n",
    "helper.view_classify(images[0].view(1, 28, 28), ps)"
   ]
  },
  {
   "cell_type": "markdown",
   "metadata": {},
   "source": [
    "Here our model is the same as before: 784 input units, a hidden layer with 128 units, ReLU activation, 64 unit hidden layer, another ReLU, then the output layer with 10 units, and the softmax output.\n",
    "\n",
    "The operations are availble by passing in the appropriate index. For example, if you want to get first Linear operation and look at the weights, you'd use `model[0]`."
   ]
  },
  {
   "cell_type": "code",
   "execution_count": 63,
   "metadata": {},
   "outputs": [
    {
     "name": "stdout",
     "output_type": "stream",
     "text": [
      "Linear(in_features=784, out_features=128, bias=True)\n"
     ]
    },
    {
     "data": {
      "text/plain": [
       "Parameter containing:\n",
       "tensor([[-0.0298,  0.0348,  0.0131,  ...,  0.0039, -0.0306, -0.0088],\n",
       "        [ 0.0172,  0.0041, -0.0301,  ..., -0.0033, -0.0048, -0.0350],\n",
       "        [ 0.0101,  0.0175, -0.0162,  ...,  0.0294,  0.0161, -0.0013],\n",
       "        ...,\n",
       "        [ 0.0346,  0.0349,  0.0318,  ...,  0.0278,  0.0346,  0.0106],\n",
       "        [-0.0174, -0.0208,  0.0111,  ...,  0.0264,  0.0024, -0.0207],\n",
       "        [ 0.0054, -0.0042,  0.0314,  ...,  0.0054, -0.0031,  0.0133]],\n",
       "       requires_grad=True)"
      ]
     },
     "execution_count": 63,
     "metadata": {},
     "output_type": "execute_result"
    }
   ],
   "source": [
    "print(model[0])\n",
    "model[0].weight"
   ]
  },
  {
   "cell_type": "markdown",
   "metadata": {},
   "source": [
    "You can also pass in an `OrderedDict` to name the individual layers and operations, instead of using incremental integers. Note that dictionary keys must be unique, so _each operation must have a different name_."
   ]
  },
  {
   "cell_type": "code",
   "execution_count": 64,
   "metadata": {},
   "outputs": [
    {
     "data": {
      "text/plain": [
       "Sequential(\n",
       "  (fc1): Linear(in_features=784, out_features=128, bias=True)\n",
       "  (relu1): ReLU()\n",
       "  (fc2): Linear(in_features=128, out_features=64, bias=True)\n",
       "  (relu2): ReLU()\n",
       "  (output): Linear(in_features=64, out_features=10, bias=True)\n",
       "  (softmax): Softmax()\n",
       ")"
      ]
     },
     "execution_count": 64,
     "metadata": {},
     "output_type": "execute_result"
    }
   ],
   "source": [
    "from collections import OrderedDict\n",
    "model = nn.Sequential(OrderedDict([\n",
    "                      ('fc1', nn.Linear(input_size, hidden_sizes[0])),\n",
    "                      ('relu1', nn.ReLU()),\n",
    "                      ('fc2', nn.Linear(hidden_sizes[0], hidden_sizes[1])),\n",
    "                      ('relu2', nn.ReLU()),\n",
    "                      ('output', nn.Linear(hidden_sizes[1], output_size)),\n",
    "                      ('softmax', nn.Softmax(dim=1))]))\n",
    "model"
   ]
  },
  {
   "cell_type": "markdown",
   "metadata": {},
   "source": [
    "Now you can access layers either by integer or the name"
   ]
  },
  {
   "cell_type": "code",
   "execution_count": 65,
   "metadata": {},
   "outputs": [
    {
     "name": "stdout",
     "output_type": "stream",
     "text": [
      "Linear(in_features=784, out_features=128, bias=True)\n",
      "Linear(in_features=784, out_features=128, bias=True)\n"
     ]
    }
   ],
   "source": [
    "print(model[0])\n",
    "print(model.fc1)"
   ]
  },
  {
   "cell_type": "markdown",
   "metadata": {},
   "source": [
    "In the next notebook, we'll see how we can train a neural network to accuractly predict the numbers appearing in the MNIST images."
   ]
  }
 ],
 "metadata": {
  "kernelspec": {
   "display_name": "Python 3",
   "language": "python",
   "name": "python3"
  },
  "language_info": {
   "codemirror_mode": {
    "name": "ipython",
    "version": 3
   },
   "file_extension": ".py",
   "mimetype": "text/x-python",
   "name": "python",
   "nbconvert_exporter": "python",
   "pygments_lexer": "ipython3",
   "version": "3.7.1"
  }
 },
 "nbformat": 4,
 "nbformat_minor": 2
}
